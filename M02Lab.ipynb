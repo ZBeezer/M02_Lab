{
 "cells": [
  {
   "cell_type": "code",
   "execution_count": 1,
   "id": "f71df442-6d06-49e6-b93c-990521e0dd37",
   "metadata": {},
   "outputs": [
    {
     "name": "stdout",
     "output_type": "stream",
     "text": [
      "Welcome.\n"
     ]
    },
    {
     "name": "stdin",
     "output_type": "stream",
     "text": [
      "Enter the student's last name (or 'ZZZ' to quit):  Beasley\n",
      "Enter the student's first name:  Zachary\n",
      "Enter the student's GPA:  3.4\n"
     ]
    },
    {
     "name": "stdout",
     "output_type": "stream",
     "text": [
      "Zachary Beasley has made the Honor Roll.\n"
     ]
    },
    {
     "name": "stdin",
     "output_type": "stream",
     "text": [
      "Enter the student's last name (or 'ZZZ' to quit):  zzz\n"
     ]
    },
    {
     "name": "stdout",
     "output_type": "stream",
     "text": [
      "Exiting the program.\n"
     ]
    }
   ],
   "source": [
    "#Zachary Beasley\n",
    "#M02Lab.py\n",
    "#This program recieves the first and last names of students and their GPA and determines whether they have made the Dean's List, Honor Roll, both, or neither. \n",
    "#To end the program, enter \"ZZZ\" when prompted for last name.\n",
    "\n",
    "\n",
    "def main():\n",
    "    print(\"Welcome.\")\n",
    "\n",
    "    while True:\n",
    "        #accept student last name\n",
    "        last_name = input(\"Enter the student's last name (or 'ZZZ' to quit): \").strip()\n",
    "\n",
    "        #check if user wants to quit\n",
    "        if last_name.upper() == 'ZZZ':\n",
    "            print(\"Exiting the program.\")\n",
    "            break\n",
    "\n",
    "        #accept student first name\n",
    "        first_name = input(\"Enter the student's first name: \").strip()\n",
    "\n",
    "        try:\n",
    "            #accept student GPA\n",
    "            gpa = float(input(\"Enter the student's GPA: \").strip())\n",
    "\n",
    "            #check if student qualifies for deans list\n",
    "            if gpa >= 3.5:\n",
    "                print(f\"{first_name} {last_name} has made the Dean's List.\")\n",
    "            #check if student qualifies for honor roll\n",
    "            elif gpa >= 3.25:\n",
    "                print(f\"{first_name} {last_name} has made the Honor Roll.\")\n",
    "            else:\n",
    "                print(f\"{first_name} {last_name} did not qualify for the Dean's List or Honor Roll.\")\n",
    "        except ValueError:\n",
    "            print(\"Invalid input. Please enter a number.\")\n",
    "\n",
    "if __name__ == \"__main__\":\n",
    "    main()"
   ]
  },
  {
   "cell_type": "code",
   "execution_count": null,
   "id": "2fc82e7d-f8b2-4e12-a03b-544a0c5ae11e",
   "metadata": {},
   "outputs": [],
   "source": []
  }
 ],
 "metadata": {
  "kernelspec": {
   "display_name": "Python 3 (ipykernel)",
   "language": "python",
   "name": "python3"
  },
  "language_info": {
   "codemirror_mode": {
    "name": "ipython",
    "version": 3
   },
   "file_extension": ".py",
   "mimetype": "text/x-python",
   "name": "python",
   "nbconvert_exporter": "python",
   "pygments_lexer": "ipython3",
   "version": "3.11.7"
  }
 },
 "nbformat": 4,
 "nbformat_minor": 5
}
